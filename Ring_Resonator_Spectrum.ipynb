{
 "cells": [
  {
   "cell_type": "code",
   "execution_count": 1,
   "id": "39a007ad",
   "metadata": {},
   "outputs": [],
   "source": [
    "import numpy as np\n",
    "from scipy.signal import find_peaks\n",
    "import matplotlib.pyplot as plt"
   ]
  },
  {
   "cell_type": "code",
   "execution_count": 2,
   "id": "20413099",
   "metadata": {},
   "outputs": [],
   "source": [
    "def ring_resonator(wavelengths, ring_type, radius, coupling_length, kappa, tau, n_eff, ng, losses):\n",
    "    lambdas = np.array(wavelengths) \n",
    "    alpha = -np.log10(10 ** (-losses / 10)) # Losses in cm^-1\n",
    "    real_length = 2 * coupling_length + 2 * np.pi * radius\n",
    "    phi_rt = (2 * np.pi / lambdas) * n_eff * real_length # Calculate the acumulative phase\n",
    "    A = np.exp(-alpha * 100 * real_length) # Phase factor\n",
    "\n",
    "    if ring_type == 'All-pass':\n",
    "\n",
    "        E_thru = (-np.sqrt(A) + tau * np.exp(-1j * phi_rt)) / (-np.sqrt(A) * np.conjugate(tau) + \n",
    "                                                               np.exp(-1j * phi_rt)) # Field at thru port\n",
    "        \n",
    "        E_drop = np.zeros(len(lambdas)) # Field at drop port\n",
    "        \n",
    "        peaks = find_peaks(-(abs(E_thru) ** 2))[0] # Find resonances indices\n",
    "        \n",
    "        resonant_wavelengths = np.array(list(map(lambda res: lambdas[res], peaks))) # Resonances\n",
    "        \n",
    "        FWHM = ((1 - (tau ** 2) * np.sqrt(A)) * resonant_wavelengths ** 2) / (\n",
    "                np.pi * ng * real_length * np.sqrt(tau ** 2 * np.sqrt(A))) # Calculate the FWHM of each resonance\n",
    "        \n",
    "        Q_Factor = [resonant_wavelengths[i] / FWHM[i] for i in range(len(resonant_wavelengths))] #  Calculate the Q-Factor of each resonance\n",
    "        \n",
    "        FSR = resonant_wavelengths[0] / (ng * real_length) # Calculate the FSR\n",
    "\n",
    "        results = {\n",
    "            'E_thru': E_thru,\n",
    "            'E_drop': E_drop,\n",
    "            'resonances': resonant_wavelengths,\n",
    "            'Q-Factor': Q_Factor,\n",
    "            'FSR': FSR\n",
    "        }\n",
    "\n",
    "        return results\n",
    "\n",
    "    elif ring_type == 'Add-drop':\n",
    "\n",
    "        E_thru = (tau - np.conjugate(tau) * np.sqrt(A) * np.exp(1j * phi_rt)) / (\n",
    "                1 - np.sqrt(A) * (np.conjugate(tau) ** 2) * np.exp(1j * phi_rt)) # Field at thru port\n",
    "        \n",
    "        E_drop = (-np.conjugate(kappa) * kappa * np.sqrt(np.sqrt(A) * np.exp(1j * phi_rt))) / (\n",
    "                1 - np.sqrt(A) * (np.conjugate(tau)) ** 2 * np.exp(1j * phi_rt)) # Field at drop port\n",
    "        \n",
    "        peaks = find_peaks(-(abs(E_thru) ** 2))[0] # Find resonances indices\n",
    "        \n",
    "        resonant_wavelengths = np.array(list(map(lambda res: lambdas[res], peaks))) # Resonances\n",
    "        \n",
    "        FWHM = ((1 - (tau ** 2) * np.sqrt(A)) * resonant_wavelengths ** 2) / (\n",
    "                np.pi * ng * real_length * np.sqrt(tau ** 2 * np.sqrt(A))) # Calculate the FWHM of each resonance\n",
    "        \n",
    "        Q_Factor = [resonant_wavelengths[i] / FWHM[i] for i in range(len(resonant_wavelengths))] # Calculate the Q-Factor of each resonance\n",
    "        \n",
    "        FSR = resonant_wavelengths[0] / (ng * real_length) # Calculate the FSR\n",
    "\n",
    "        results = {\n",
    "            'E_thru': E_thru,\n",
    "            'E_drop': E_drop,\n",
    "            'resonances': resonant_wavelengths,\n",
    "            'Q-Factor': Q_Factor,\n",
    "            'FSR': FSR\n",
    "        }\n",
    "\n",
    "        return results\n",
    "\n",
    "    else:\n",
    "        print('Ring type must be either \"All-pass\" or \"Add-drop\".')\n",
    "\n",
    "        results = {\n",
    "            'E_thru': np.zeros(len(wavelengths)),\n",
    "            'E_drop': np.zeros(len(wavelengths)),\n",
    "            'resonances': np.zeros(len(wavelengths)),\n",
    "            'Q-Factor': 'NA',\n",
    "            'FSR': 'NA'\n",
    "        }\n",
    "\n",
    "        return results                                         "
   ]
  },
  {
   "cell_type": "code",
   "execution_count": 3,
   "id": "b54190d1",
   "metadata": {},
   "outputs": [
    {
     "data": {
      "image/png": "[encoded data removed]",
      "text/plain": [
       "<Figure size 432x288 with 2 Axes>"
      ]
     },
     "metadata": {
      "needs_background": "light"
     },
     "output_type": "display_data"
    }
   ],
   "source": [
    "# All-pass microring resonator \n",
    "\n",
    "wavelengths = np.arange(1490, 1610, 0.01) * (10 ** -9) \n",
    "ring_type = 'All-pass'\n",
    "radius = 10 * (10 ** -6)\n",
    "coupling_length = 0\n",
    "kappa = 0.1\n",
    "tau = np.sqrt(1-(kappa ** 2))\n",
    "n_eff = 2.56\n",
    "ng = 2.7\n",
    "losses = 0.3\n",
    "\n",
    "\n",
    "all_pass_ring = ring_resonator(wavelengths, ring_type, radius, coupling_length, kappa, tau, n_eff, ng, losses)\n",
    "\n",
    "fig, axs = plt.subplots(2, 1)\n",
    "axs[0].plot(wavelengths * (10 ** 9), abs(all_pass_ring['E_thru'])**2)\n",
    "axs[0].set_ylim(0, 1.1)\n",
    "axs[0].set_xlim(1490, 1610)\n",
    "axs[0].set_ylabel('Normalized Power')\n",
    "axs[0].grid(True)\n",
    "axs[0].set_title('Thru port')\n",
    "\n",
    "axs[1].plot(wavelengths * (10 ** 9), abs(all_pass_ring['E_drop'])**2)\n",
    "axs[1].set_ylim(0, 1.1)\n",
    "axs[0].set_xlim(1490, 1610)\n",
    "axs[1].set_xlabel('Wavelength [nm]')\n",
    "axs[1].set_ylabel('Normalized Power')\n",
    "axs[1].grid(True)\n",
    "axs[1].set_title('Drop port')\n",
    "\n",
    "fig.tight_layout()\n",
    "plt.show()\n"
   ]
  },
  {
   "cell_type": "code",
   "execution_count": 4,
   "id": "66803316",
   "metadata": {},
   "outputs": [
    {
     "data": {
      "image/png": "[encoded data removed]",
      "text/plain": [
       "<Figure size 432x288 with 2 Axes>"
      ]
     },
     "metadata": {
      "needs_background": "light"
     },
     "output_type": "display_data"
    }
   ],
   "source": [
    "# Add-drop microring resonator \n",
    "\n",
    "wavelengths = np.arange(1490, 1610, 0.01) * (10 ** -9)\n",
    "ring_type = 'Add-drop'\n",
    "radius = 10 * (10 ** -6)\n",
    "coupling_length = 0\n",
    "kappa = 0.1\n",
    "tau = np.sqrt(1-(kappa ** 2))\n",
    "n_eff = 2.56\n",
    "ng = 2.7\n",
    "losses = 0.3\n",
    "\n",
    "add_drop_ring = ring_resonator(wavelengths, ring_type, radius, coupling_length, kappa, tau, n_eff, ng, losses)\n",
    "\n",
    "\n",
    "fig, axs = plt.subplots(2, 1)\n",
    "axs[0].plot(wavelengths * (10 ** 9), abs(add_drop_ring['E_thru'])**2)\n",
    "axs[0].set_ylim(0, 1.1)\n",
    "axs[0].set_xlim(1490, 1610)\n",
    "axs[0].set_ylabel('Normalized Power')\n",
    "axs[0].grid(True)\n",
    "axs[0].set_title('Thru port')\n",
    "\n",
    "axs[1].plot(wavelengths * (10 ** 9), abs(add_drop_ring['E_drop'])**2)\n",
    "axs[1].set_ylim(0, 1.1)\n",
    "axs[0].set_xlim(1490, 1610)\n",
    "axs[1].set_xlabel('Wavelength [nm]')\n",
    "axs[1].set_ylabel('Normalized Power')\n",
    "axs[1].grid(True)\n",
    "axs[1].set_title('Drop port')\n",
    "\n",
    "fig.tight_layout()\n",
    "plt.show()\n"
   ]
  }
 ],
 "metadata": {
  "kernelspec": {
   "display_name": "Python 3 (ipykernel)",
   "language": "python",
   "name": "python3"
  },
  "language_info": {
   "codemirror_mode": {
    "name": "ipython",
    "version": 3
   },
   "file_extension": ".py",
   "mimetype": "text/x-python",
   "name": "python",
   "nbconvert_exporter": "python",
   "pygments_lexer": "ipython3",
   "version": "3.9.7"
  }
 },
 "nbformat": 4,
 "nbformat_minor": 5
}
